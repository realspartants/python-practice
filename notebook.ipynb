{
 "cells": [
  {
   "cell_type": "code",
   "execution_count": null,
   "metadata": {
    "scrolled": true
   },
   "outputs": [],
   "source": [
    "import random\n",
    "\n",
    "start=int(input(\"Enter the first number: \"))\n",
    "end=int(input(\"Enter the second number: \"))\n",
    "range =int(input(\"Enter the range: \"))\n",
    "n = 0\n",
    "while n < range:\n",
    "    y=random.randint(start,end)\n",
    "    print(y)\n",
    "    n+=1"
   ]
  }
 ],
 "metadata": {
  "kernelspec": {
   "name": "python3",
   "display_name": "Python 3.9.1 64-bit",
   "metadata": {
    "interpreter": {
     "hash": "b0658795fe061a7aef16c33e62e28517a323e0283b466b58a55717b2d34be497"
    }
   }
  },
  "language_info": {
   "codemirror_mode": {
    "name": "ipython",
    "version": 3
   },
   "file_extension": ".py",
   "mimetype": "text/x-python",
   "name": "python",
   "nbconvert_exporter": "python",
   "pygments_lexer": "ipython3",
   "version": "3.9.1-final"
  }
 },
 "nbformat": 4,
 "nbformat_minor": 2
}